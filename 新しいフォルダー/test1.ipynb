{
 "cells": [
  {
   "cell_type": "code",
   "execution_count": null,
   "metadata": {},
   "outputs": [
    {
     "name": "stdout",
     "output_type": "stream",
     "text": [
      "Original velocities at (8,8):[0.0, 4.7697943, 4.8637243, 0.0, 5.9789885, 0.22436941, 4.8793914, 0.0, 6.5950654, 0.20350995]\n",
      "Filtered velocities at (8,8):[0.0, 4.7697943, 4.8637243, 1.625070563578694e-16, 5.9789885, 0.2243694100000001, 4.8793914, -6.025656186061451e-17, 6.5950654, 0.20350995000000083]\n"
     ]
    }
   ],
   "source": [
    "using FFTW, DelimitedFiles\n",
    "\n",
    "# 入力パラメータの設定\n",
    "folder_path = raw\"D:\\新しいフォルダー (2)\"  # 処理するフォルダのパスを指定\n",
    "output_folder = raw\"D:\\新しいフォルダー (3)\"  # 出力フォルダのパスを指定\n",
    "interval_sec = 1/60  # テキストデータ間隔（秒）\n",
    "lowpass_threshold = 10  # ローパスフィルタの閾値（Hz）\n",
    "\n",
    "# 指定フォルダ内のテキストファイルを取得\n",
    "files = filter(x -> endswith(x, \".txt\"), readdir(folder_path, join=true))\n",
    "sort!(files)\n",
    "\n",
    "# データの格納用辞書\n",
    "velocity_data = Dict()\n",
    "coordinates = Set{Tuple{Float64, Float64}}()\n",
    "\n",
    "timesteps = length(files)  # タイムステップ数\n",
    "\n",
    "# 各ファイルを読み込み、速度データを格納\n",
    "for file in files\n",
    "    data = readdlm(file)\n",
    "    for row in eachrow(data)\n",
    "        x, y, vx, vy, speed = row[1:5]\n",
    "        push!(coordinates, (x, y))  # 修正: 直接push!を使用\n",
    "        if !haskey(velocity_data, (x, y))\n",
    "            velocity_data[(x, y)] = Float64[]\n",
    "        end\n",
    "        push!(velocity_data[(x, y)], speed)\n",
    "    end\n",
    "end\n",
    "\n",
    "# FFT、ローパスフィルタ、逆FFTを適用\n",
    "t_filtered = Dict()\n",
    "fs = 1 / interval_sec  # サンプリング周波数\n",
    "freqs = fftfreq(timesteps, fs)\n",
    "\n",
    "for coord in coordinates\n",
    "    vels = velocity_data[coord]\n",
    "    fft_data = fft(vels)\n",
    "    fft_data[abs.(freqs) .> lowpass_threshold] .= 0  # ローパスフィルタ適用\n",
    "    t_filtered[coord] = real(ifft(fft_data))\n",
    "end\n",
    "\n",
    "# フィルタ後のデータを新しいテキストファイルに出力\n",
    "for (i, file) in enumerate(files)\n",
    "    data = readdlm(file)\n",
    "    new_data = copy(data)\n",
    "    for row in eachrow(new_data)\n",
    "        x, y = row[1:2]\n",
    "        row[5] = t_filtered[(x, y)][i]  # 速度値を更新\n",
    "    end\n",
    "    output_file = joinpath(output_folder, basename(file))\n",
    "    writedlm(output_file, new_data)\n",
    "end\n",
    "\n",
    "# 座標 (8,8) の処理結果をログ出力\n",
    "if haskey(t_filtered, (8.0, 8.0))\n",
    "    println(\"Original velocities at (8,8):\", velocity_data[(8.0, 8.0)])\n",
    "    println(\"Filtered velocities at (8,8):\", t_filtered[(8.0, 8.0)])\n",
    "end"
   ]
  }
 ],
 "metadata": {
  "kernelspec": {
   "display_name": "Julia 1.10.4",
   "language": "julia",
   "name": "julia-1.10"
  },
  "language_info": {
   "file_extension": ".jl",
   "mimetype": "application/julia",
   "name": "julia",
   "version": "1.10.4"
  }
 },
 "nbformat": 4,
 "nbformat_minor": 2
}
